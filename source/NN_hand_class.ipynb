{
 "cells": [
  {
   "cell_type": "code",
   "execution_count": 1,
   "metadata": {},
   "outputs": [],
   "source": [
    "from PIL import Image\n",
    "import matplotlib.pyplot as plt\n",
    "import matplotlib.patches as patches\n",
    "import numpy as np\n",
    "import os\n",
    "import csv\n",
    "from keras.models import Sequential\n",
    "from keras.layers import Conv2D\n",
    "from keras.layers import MaxPooling2D\n",
    "from keras.layers import Flatten\n",
    "from keras.layers import Dense\n",
    "from keras.layers import Dropout\n",
    "from keras.models import load_model"
   ]
  },
  {
   "cell_type": "code",
   "execution_count": 2,
   "metadata": {},
   "outputs": [
    {
     "name": "stdout",
     "output_type": "stream",
     "text": [
      "899.png\n",
      "Train Set samples: 900\n",
      "Test Set samples: 60\n"
     ]
    }
   ],
   "source": [
    "train_dir = 'C:/Users/Somn117/Documents/Blender-Auto-render-main/results/cnn/train/mixed/'\n",
    "train_label_file = 'C:/Users/Somn117/Documents/Blender-Auto-render-main/results/cnn/train/mixed_csv/coor_.csv'\n",
    "train_coordi_dict = {}\n",
    "class_names = ['Type 1', 'Type 2', 'Type 3']\n",
    "with open(train_label_file) as f:\n",
    "    lines = f.read().splitlines()\n",
    "for line in lines:\n",
    "    elements = line.split(',')\n",
    "    train_coordi_dict[elements[0]]=elements[1:]\n",
    "print(elements[0])\n",
    "test_dir = 'C:/Users/Somn117/Documents/Blender-Auto-render-main/results/cnn/test/mixed/'\n",
    "test_label_file = 'C:/Users/Somn117/Documents/Blender-Auto-render-main/results/cnn/test/mixed_csv/coor_.csv'\n",
    "test_coordi_dict ={}\n",
    "with open(test_label_file) as f:\n",
    "    lines = f.read().splitlines()\n",
    "for line in lines:\n",
    "    elements=line.split(',')\n",
    "    test_coordi_dict[elements[0]]=elements[1:]\n",
    "\n",
    "train_sample = len(os.listdir(train_dir))\n",
    "test_sample = len(os.listdir(test_dir))\n",
    "print(\"Train Set samples: \" + str(train_sample))\n",
    "print(\"Test Set samples: \" + str(test_sample))\n",
    "# print(train_coordi_dict)"
   ]
  },
  {
   "cell_type": "code",
   "execution_count": 3,
   "metadata": {
    "tags": []
   },
   "outputs": [],
   "source": [
    "\n",
    "    train_x_data_set = np.zeros([train_sample,100,100,4])\n",
    "    train_y_data_set = np.zeros([train_sample,5])\n",
    "#     print(train_x_data_set)\n"
   ]
  },
  {
   "cell_type": "code",
   "execution_count": 4,
   "metadata": {
    "tags": []
   },
   "outputs": [
    {
     "ename": "ValueError",
     "evalue": "cannot copy sequence with size 4 to array axis with dimension 5",
     "output_type": "error",
     "traceback": [
      "\u001B[1;31m---------------------------------------------------------------------------\u001B[0m",
      "\u001B[1;31mValueError\u001B[0m                                Traceback (most recent call last)",
      "\u001B[1;32m<ipython-input-4-c784fdb3c569>\u001B[0m in \u001B[0;36m<module>\u001B[1;34m\u001B[0m\n\u001B[0;32m      5\u001B[0m         \u001B[0mim\u001B[0m \u001B[1;33m=\u001B[0m \u001B[0mnp\u001B[0m\u001B[1;33m.\u001B[0m\u001B[0marray\u001B[0m\u001B[1;33m(\u001B[0m\u001B[0mimg\u001B[0m\u001B[1;33m)\u001B[0m\u001B[1;33m\u001B[0m\u001B[1;33m\u001B[0m\u001B[0m\n\u001B[0;32m      6\u001B[0m         \u001B[0mtrain_x_data_set\u001B[0m\u001B[1;33m[\u001B[0m\u001B[0mindex\u001B[0m\u001B[1;33m,\u001B[0m\u001B[1;33m:\u001B[0m\u001B[1;33m,\u001B[0m\u001B[1;33m:\u001B[0m\u001B[1;33m,\u001B[0m\u001B[1;33m:\u001B[0m\u001B[1;33m]\u001B[0m \u001B[1;33m=\u001B[0m \u001B[0mim\u001B[0m\u001B[1;33m\u001B[0m\u001B[1;33m\u001B[0m\u001B[0m\n\u001B[1;32m----> 7\u001B[1;33m         \u001B[0mtrain_y_data_set\u001B[0m\u001B[1;33m[\u001B[0m\u001B[0mindex\u001B[0m\u001B[1;33m,\u001B[0m\u001B[1;33m:\u001B[0m\u001B[1;33m]\u001B[0m \u001B[1;33m=\u001B[0m \u001B[0mtrain_coordi_dict\u001B[0m\u001B[1;33m[\u001B[0m\u001B[0mfilename\u001B[0m\u001B[1;33m]\u001B[0m\u001B[1;33m\u001B[0m\u001B[1;33m\u001B[0m\u001B[0m\n\u001B[0m\u001B[0;32m      8\u001B[0m \u001B[1;33m\u001B[0m\u001B[0m\n\u001B[0;32m      9\u001B[0m \u001B[1;33m\u001B[0m\u001B[0m\n",
      "\u001B[1;31mValueError\u001B[0m: cannot copy sequence with size 4 to array axis with dimension 5"
     ]
    }
   ],
   "source": [
    "for index,filename in enumerate(os.listdir(train_dir)):\n",
    "    \n",
    "        img = Image.open(train_dir + filename)\n",
    "        img = img.resize((100,100), Image.ANTIALIAS)\n",
    "        im = np.array(img)\n",
    "        train_x_data_set[index,:,:,:] = im\n",
    "        train_y_data_set[index,:] = train_coordi_dict[filename]\n"
   ]
  },
  {
   "cell_type": "code",
   "execution_count": null,
   "metadata": {
    "tags": []
   },
   "outputs": [],
   "source": [
    "train_x_data_set = train_x_data_set/255\n",
    "# train_x_data_set"
   ]
  },
  {
   "cell_type": "code",
   "execution_count": null,
   "metadata": {
    "tags": []
   },
   "outputs": [],
   "source": [
    "model = Sequential()\n",
    "\n",
    "model.add(Conv2D(8,(3,3),activation='relu'))\n",
    "model.add(MaxPooling2D(pool_size=(2,2),strides=2))\n",
    "model.add(Dropout(0.25))\n",
    "\n",
    "model.add(Conv2D(12,(3,3),activation='relu'))\n",
    "model.add(MaxPooling2D(pool_size=(2,2),strides=2))\n",
    "model.add(Dropout(0.25))\n",
    "\n",
    "model.add(Conv2D(16,(3,3),activation='relu'))\n",
    "model.add(MaxPooling2D(pool_size=(2,2),strides=2))\n",
    "model.add(Dropout(0.25))\n",
    "\n",
    "model.add(Conv2D(18,(3,3),activation='relu'))\n",
    "model.add(MaxPooling2D(pool_size=(2,2),strides=2))\n",
    "model.add(Dropout(0.25))\n",
    "\n",
    "model.add(Flatten())\n",
    "\n",
    "model.add(Dense(units=128,activation='relu'))\n",
    "model.add(Dropout(0.5))\n",
    "\n",
    "model.add(Dense(units=5,activation='sigmoid'))\n"
   ]
  },
  {
   "cell_type": "code",
   "execution_count": null,
   "metadata": {
    "tags": []
   },
   "outputs": [],
   "source": [
    "model.compile(optimizer='adam',loss='mean_squared_error')"
   ]
  },
  {
   "cell_type": "code",
   "execution_count": null,
   "metadata": {},
   "outputs": [],
   "source": [
    "model.fit(train_x_data_set,train_y_data_set,epochs=40)"
   ]
  },
  {
   "cell_type": "code",
   "execution_count": null,
   "metadata": {
    "tags": []
   },
   "outputs": [],
   "source": [
    "test_x_data_set = np.zeros([test_sample,100,100,4])\n",
    "test_y_data_set = np.zeros([test_sample,5])\n",
    "for index,filename in enumerate(os.listdir(test_dir)):\n",
    "\n",
    "    img = Image.open(test_dir + filename)\n",
    "    img = img.resize((100,100),Image.ANTIALIAS)\n",
    "    im = np.array(img)\n",
    "    test_x_data_set[index,:,:,:] = im\n",
    "    test_y_data_set[index,:] = test_coordi_dict[filename]\n",
    "\n",
    "test_x_data_set = test_x_data_set/255"
   ]
  },
  {
   "cell_type": "code",
   "execution_count": null,
   "metadata": {},
   "outputs": [],
   "source": [
    "model.evaluate(test_x_data_set,test_y_data_set)\n",
    "model.save('C:/Users/Somn117/Documents/Blender-Auto-render-main/results/nn_models/model1.pb')"
   ]
  },
  {
   "cell_type": "code",
   "execution_count": null,
   "metadata": {},
   "outputs": [],
   "source": [
    "\n",
    "model=load_model('C:/Users/Somn117/Documents/Blender-Auto-render-main/results/nn_models/model1.pb')\n",
    "predictions=model.predict(test_x_data_set)\n",
    "j=0\n",
    "with open('C:/Users/Somn117/Documents/Blender-Auto-render-main/results/predictions.csv', 'w') as f:\n",
    "    # create the csv writer\n",
    "    writer = csv.writer(f)\n",
    "    for j in predictions:\n",
    "    # write a row to the csv file\n",
    "        writer.writerow(j)\n",
    "        \n",
    "# result=test_coordi_dict[i]-predictions[i]\n",
    "# with open('C:/Users/Somn117/Documents/Blender-Auto-render-main/results/result.csv', 'r') as fl:\n",
    "#  # create the csv writer\n",
    "#     writer = csv.writer(fl)\n",
    "#     for j in result:\n",
    "#     # write a row to the csv file\n",
    "#         writer.writerow(j)     \n",
    "        \n",
    "predictions"
   ]
  },
  {
   "cell_type": "code",
   "execution_count": null,
   "metadata": {},
   "outputs": [],
   "source": [
    "test_x_data_set[7].shape\n",
    "import tensorflow as tf\n",
    "print(tf.__version__)"
   ]
  },
  {
   "cell_type": "code",
   "execution_count": null,
   "metadata": {},
   "outputs": [],
   "source": [
    "for i in range(22):\n",
    "    print(predictions[i])\n",
    "    hight = predictions[i][3]-predictions[i][1]\n",
    "    width = predictions[i][4]-predictions[i][2]\n",
    "    test_img = Image.fromarray(np.uint8(test_x_data_set[i]*255))\n",
    "    fig,ax = plt.subplots(1)\n",
    "    ax.imshow(test_img)\n",
    "    result_class =  predictions[i][0] \n",
    "    print('result_class = ', result_class)\n",
    "    rect = patches.Rectangle((predictions[i][1]*200,predictions[i][2]*200),hight*200,width*200,linewidth=1,edgecolor='r',facecolor='none')\n",
    "    ax.add_patch(rect)\n",
    "    plt.savefig('C:/Users/Somn117/Documents/Blender-Auto-render-main/results/cnn/results/frame%04d.jpg' % i)\n",
    "    plt.show()\n",
    "    "
   ]
  },
  {
   "cell_type": "code",
   "execution_count": null,
   "metadata": {
    "tags": []
   },
   "outputs": [],
   "source": [
    "model.save('C:/Users/Somn117/Documents/hand_dataset/test_arm/model/hand2108_3_10')"
   ]
  },
  {
   "cell_type": "code",
   "execution_count": null,
   "metadata": {},
   "outputs": [],
   "source": []
  },
  {
   "cell_type": "code",
   "execution_count": null,
   "metadata": {},
   "outputs": [],
   "source": []
  }
 ],
 "metadata": {
  "kernelspec": {
   "display_name": "Python 3",
   "language": "python",
   "name": "python3"
  },
  "language_info": {
   "codemirror_mode": {
    "name": "ipython",
    "version": 3
   },
   "file_extension": ".py",
   "mimetype": "text/x-python",
   "name": "python",
   "nbconvert_exporter": "python",
   "pygments_lexer": "ipython3",
   "version": "3.6.8"
  }
 },
 "nbformat": 4,
 "nbformat_minor": 4
}